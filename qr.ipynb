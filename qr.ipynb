{
 "cells": [
  {
   "cell_type": "code",
   "execution_count": 1,
   "id": "f957e9dd-df1c-40b8-a8a2-836f64d578b2",
   "metadata": {},
   "outputs": [
    {
     "name": "stdout",
     "output_type": "stream",
     "text": [
      "Requirement already satisfied: qrcode in c:\\users\\user12\\anaconda3\\lib\\site-packages (8.2)\n",
      "Requirement already satisfied: colorama in c:\\users\\user12\\anaconda3\\lib\\site-packages (from qrcode) (0.4.6)\n"
     ]
    }
   ],
   "source": [
    "!pip install qrcode\n"
   ]
  },
  {
   "cell_type": "code",
   "execution_count": null,
   "id": "d20667d5-b9a4-43c9-9820-352df0010b4a",
   "metadata": {},
   "outputs": [
    {
     "name": "stdout",
     "output_type": "stream",
     "text": [
      "QR 코드 생성 완료! 'github_qrcode.png' 확인해보세요.\n"
     ]
    }
   ],
   "source": [
    "import qrcode\n",
    "\n",
    "# 깃허브 사용자 프로필 주소\n",
    "github_url = 'https://github.com/sungjun677'\n",
    "\n",
    "# QR 코드 생성\n",
    "qr = qrcode.make(github_url)\n",
    "\n",
    "# 이미지로 저장\n",
    "qr.save('github_qrcode.png')\n",
    "\n"
   ]
  },
  {
   "cell_type": "code",
   "execution_count": null,
   "id": "3d833633-317e-4250-8352-d5b91997d4b9",
   "metadata": {},
   "outputs": [],
   "source": []
  }
 ],
 "metadata": {
  "kernelspec": {
   "display_name": "Python 3 (ipykernel)",
   "language": "python",
   "name": "python3"
  },
  "language_info": {
   "codemirror_mode": {
    "name": "ipython",
    "version": 3
   },
   "file_extension": ".py",
   "mimetype": "text/x-python",
   "name": "python",
   "nbconvert_exporter": "python",
   "pygments_lexer": "ipython3",
   "version": "3.12.7"
  }
 },
 "nbformat": 4,
 "nbformat_minor": 5
}
